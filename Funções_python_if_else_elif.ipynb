{
  "nbformat": 4,
  "nbformat_minor": 0,
  "metadata": {
    "colab": {
      "provenance": [],
      "authorship_tag": "ABX9TyPn1/VHUIZD7vsQ1wC26f/y",
      "include_colab_link": true
    },
    "kernelspec": {
      "name": "python3",
      "display_name": "Python 3"
    },
    "language_info": {
      "name": "python"
    }
  },
  "cells": [
    {
      "cell_type": "markdown",
      "metadata": {
        "id": "view-in-github",
        "colab_type": "text"
      },
      "source": [
        "<a href=\"https://colab.research.google.com/github/LeonardoHao/CartorioEbac/blob/main/Fun%C3%A7%C3%B5es_python_if_else_elif.ipynb\" target=\"_parent\"><img src=\"https://colab.research.google.com/assets/colab-badge.svg\" alt=\"Open In Colab\"/></a>"
      ]
    },
    {
      "cell_type": "markdown",
      "source": [
        "**Estruturas de if/else/elif**\n",
        "\n",
        "\n",
        "\n",
        "\n",
        "\n",
        "\n",
        "\n",
        "\n",
        "\n",
        "\n",
        "\n",
        "\n",
        "\n"
      ],
      "metadata": {
        "id": "olu8egd4yDUN"
      }
    },
    {
      "cell_type": "code",
      "execution_count": 3,
      "metadata": {
        "id": "uAgH7iEWjfbB",
        "colab": {
          "base_uri": "https://localhost:8080/"
        },
        "outputId": "8104d86f-65fc-4614-db06-798377ed4e71"
      },
      "outputs": [
        {
          "output_type": "stream",
          "name": "stdout",
          "text": [
            "Verdadeiro\n"
          ]
        }
      ],
      "source": [
        "#Estrutura de alteração de fluxo lógico do código,avalia um valor booleano ou uma comparação lógica:\n",
        "\n",
        "if True:\n",
        "  print('Verdadeiro')\n",
        "else:\n",
        "  print('Falso')"
      ]
    },
    {
      "cell_type": "code",
      "source": [
        "#Exemplos:Código de segurança de um cartão de crédito\n",
        "\n",
        "codigo_de_seguranca = '155'\n",
        "codigo_de_seguranca_registro = '223'\n",
        "\n",
        "pode_efetuar_pagamento = codigo_de_seguranca == codigo_de_seguranca_registro\n",
        "print(pode_efetuar_pagamento)"
      ],
      "metadata": {
        "colab": {
          "base_uri": "https://localhost:8080/"
        },
        "id": "K9BbaZ0rzQNy",
        "outputId": "7e12f14d-b4de-43ce-9acd-12c056942ccc"
      },
      "execution_count": 15,
      "outputs": [
        {
          "output_type": "stream",
          "name": "stdout",
          "text": [
            "False\n"
          ]
        }
      ]
    },
    {
      "cell_type": "code",
      "source": [
        "if pode_efetuar_pagamento:\n",
        "  print('Pagamento efetuado!')\n",
        "else:\n",
        "  print('Erro! Código de segurança inválido!''\\n')\n",
        "\n",
        "\n",
        "if codigo_de_seguranca == codigo_de_seguranca_registro:\n",
        "  print('Pagamento efetuado!')\n",
        "else:\n",
        "  print('Erro! Código de segurança inválido!')\n",
        "\n"
      ],
      "metadata": {
        "colab": {
          "base_uri": "https://localhost:8080/"
        },
        "id": "ruDV_Lx80kv5",
        "outputId": "f6b69dc9-5140-4274-8d8d-b236679eb29f"
      },
      "execution_count": 12,
      "outputs": [
        {
          "output_type": "stream",
          "name": "stdout",
          "text": [
            "Erro! Código de segurança inválido!\n",
            "\n",
            "Erro! Código de segurança inválido!\n"
          ]
        }
      ]
    },
    {
      "cell_type": "code",
      "source": [
        "codigo_de_seguranca2 = '567'\n",
        "codigo_de_registro = '567'\n",
        "\n",
        "senha = '912'\n",
        "senha_de_cadastro = '912'\n",
        "\n",
        "\n",
        "\n",
        "if (codigo_de_seguranca2 == codigo_de_registro) & (senha == senha_de_cadastro):\n",
        "  print('Pagamento efetuado!')\n",
        "else:\n",
        "  print('Erro! Código de segurança inválido!')"
      ],
      "metadata": {
        "colab": {
          "base_uri": "https://localhost:8080/"
        },
        "id": "36Fx0Gld3Pql",
        "outputId": "2e6933d4-085c-4e68-d52c-92d3c1954894"
      },
      "execution_count": 20,
      "outputs": [
        {
          "output_type": "stream",
          "name": "stdout",
          "text": [
            "Pagamento efetuado!\n"
          ]
        }
      ]
    },
    {
      "cell_type": "code",
      "source": [
        "if(codigo_de_seguranca2 != codigo_de_registro) | (senha != senha_de_cadastro):\n",
        "  print('Erro! Código de segurança inválido!')\n",
        "else:\n",
        "  print('Pagamento efetuado!')"
      ],
      "metadata": {
        "colab": {
          "base_uri": "https://localhost:8080/"
        },
        "id": "aIvDue_C5kj5",
        "outputId": "1e393a31-c017-42d6-c227-edfc24e6c23f"
      },
      "execution_count": 21,
      "outputs": [
        {
          "output_type": "stream",
          "name": "stdout",
          "text": [
            "Pagamento efetuado!\n"
          ]
        }
      ]
    }
  ]
}